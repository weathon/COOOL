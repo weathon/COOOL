{
 "cells": [
  {
   "cell_type": "code",
   "execution_count": 1,
   "metadata": {},
   "outputs": [
    {
     "name": "stderr",
     "output_type": "stream",
     "text": [
      "/home/wg25r/.local/lib/python3.10/site-packages/torchvision/models/_utils.py:208: UserWarning: The parameter 'pretrained' is deprecated since 0.13 and may be removed in the future, please use 'weights' instead.\n",
      "  warnings.warn(\n",
      "/home/wg25r/.local/lib/python3.10/site-packages/torchvision/models/_utils.py:223: UserWarning: Arguments other than a weight enum or `None` for 'weights' are deprecated since 0.13 and may be removed in the future. The current behavior is equivalent to passing `weights=Raft_Large_Weights.C_T_SKHT_V2`. You can also use `weights=Raft_Large_Weights.DEFAULT` to get the most up-to-date weights.\n",
      "  warnings.warn(msg)\n"
     ]
    }
   ],
   "source": [
    "import torchvision\n",
    "model = torchvision.models.optical_flow.raft_large(pretrained=True)"
   ]
  },
  {
   "cell_type": "code",
   "execution_count": null,
   "metadata": {},
   "outputs": [
    {
     "name": "stderr",
     "output_type": "stream",
     "text": [
      " 82%|████████▏ | 163/200 [1:23:26<16:51, 27.35s/it]"
     ]
    }
   ],
   "source": [
    "import cv2\n",
    "import numpy as np\n",
    "import torch\n",
    "import torchvision\n",
    "import torchvision.transforms.functional\n",
    "import torchvision.transforms.v2\n",
    "import tqdm\n",
    "model = model.cuda()\n",
    "import os\n",
    "os.makedirs(\"flow\", exist_ok=True)\n",
    "\n",
    "for video_name in tqdm.tqdm(os.listdir(\"COOOL Benchmark\")):\n",
    "    cap = cv2.VideoCapture(f\"COOOL Benchmark/{video_name}\")\n",
    "\n",
    "    frame_width = 448\n",
    "    frame_height = 448\n",
    "\n",
    "    out = cv2.VideoWriter(f'flow/{video_name}.mp4', cv2.VideoWriter_fourcc(*'mp4v'), 30, (frame_width, frame_height))\n",
    "\n",
    "    last_frame = np.zeros((frame_height, frame_width, 3), dtype=np.uint8)\n",
    "\n",
    "    while cap.isOpened():\n",
    "        ret, frame = cap.read()\n",
    "        if not ret:\n",
    "            break\n",
    "        frame1 = cv2.cvtColor(last_frame, cv2.COLOR_BGR2RGB).astype(np.float32)\n",
    "        frame2 = cv2.cvtColor(frame, cv2.COLOR_BGR2RGB).astype(np.float32)\n",
    "        frame1 = cv2.resize(frame1, (frame_width, frame_height))\n",
    "        frame2 = cv2.resize(frame2, (frame_width, frame_height))\n",
    "        \n",
    "        frame1 = torchvision.transforms.functional.normalize(torchvision.transforms.v2.ToImage()(frame1).unsqueeze(0), [0.5, 0.5, 0.5], [0.5, 0.5, 0.5]).cuda()\n",
    "        frame2 = torchvision.transforms.functional.normalize(torchvision.transforms.v2.ToImage()(frame2).unsqueeze(0), [0.5, 0.5, 0.5], [0.5, 0.5, 0.5]).cuda()\n",
    "        with torch.no_grad():\n",
    "            flow = model(frame1, frame2)[0][-1] \n",
    "        flow_rgb = torchvision.utils.flow_to_image(flow).permute(1, 2, 0).cpu().numpy().astype(np.uint8)\n",
    "        \n",
    "        last_frame = frame.copy()\n",
    "        out.write(flow_rgb) \n",
    "\n",
    "    cap.release()\n",
    "    out.release()"
   ]
  }
 ],
 "metadata": {
  "kernelspec": {
   "display_name": "Python 3",
   "language": "python",
   "name": "python3"
  },
  "language_info": {
   "codemirror_mode": {
    "name": "ipython",
    "version": 3
   },
   "file_extension": ".py",
   "mimetype": "text/x-python",
   "name": "python",
   "nbconvert_exporter": "python",
   "pygments_lexer": "ipython3",
   "version": "3.10.12"
  }
 },
 "nbformat": 4,
 "nbformat_minor": 2
}
